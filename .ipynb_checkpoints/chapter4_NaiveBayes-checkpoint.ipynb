{
 "cells": [
  {
   "cell_type": "markdown",
   "metadata": {},
   "source": [
    "# 朴素贝叶斯算法（Naive Bayes）"
   ]
  },
  {
   "cell_type": "markdown",
   "metadata": {},
   "source": [
    "## 1.极大似然估计\n",
    "先验概率为:\n",
    "$ \\quad  P(Y=c_k)=\\frac{\\Sigma^N_{i=1}I(y_i=c_k)}{N},k=1,2,...,K $\n",
    "\n",
    "设第$j$个特征$x^{(j)}$可能的取值集合是${a_{j1},a_{j2},...,a_{jS_j}}$,\n",
    "\n",
    "条件概率$P(X^{(j)}=a_{jl} \\mid Y=c_k)$的极大似然估计为：\n",
    "$\\quad P(X^{(j)}=a_{jl} \\mid Y=c_k)=\\dfrac{\\Sigma^N_{i=1}I(x^{(j)}_i=a_{jl},y_i=c_k)}{\\Sigma^N_{i=1}I(y_i=c_k)}$\n",
    "$j=1,2,...,n; l=1,2,...,S_j, k=1,2,...,K$\n",
    "\n",
    "式中，$x^{(j)}_i$是第$i$个样本的第$j$个特征；$a_{jl}$是第$j$个特征可能取的第$l$个值；$I$为指示函数\n",
    "\n",
    "## 2.学习与分类算法\n",
    "输入：训练数据$T={(x_1,y_1),(x_2,y_2),...,(x_N,y_N)}$，其中$x_i=(x^{(1)}_i,x^{(2)}_i,...,x^{(N)}_i)^T$ $x^{(j)}_i$是第$i$个样本的第$j$个特征，$x^{(j)}_i \\in {a_{j1},a_{j2},...,a_{jS_j}}$,$a_{jl}$是第$j$个特征可能取的第$l$个值，$y_i \\in {c_1,c_2,...,c_K}$；实例$x$.\n",
    "\n",
    "输出：实例$x$的分类.\n",
    "\n",
    "(1)计算先验概率及条件概率\n",
    "先验概率为:\n",
    "\n",
    "$ \\quad  P(Y=c_k)=\\frac{\\Sigma^N_{i=1}I(y_i=c_k)}{N},k=1,2,...,K $\n",
    "\n",
    "条件概率$P(X^{(j)}=a_{jl} \\mid Y=c_k)$的极大似然估计为：\n",
    "$\\quad P(X^{(j)}=a_{jl} \\mid Y=c_k)=\\dfrac{\\Sigma^N_{i=1}I(x^{(j)}_i=a_{jl},y_i=c_k)}{\\Sigma^N_{i=1}I(y_i=c_k)},j=1,2,...,n; l=1,2,...,S_j, k=1,2,...,K$\n",
    "\n",
    "(2)对于给定的实例$x=(x^{(1)},x^{(2)},...,x^{(n)})^T$,计算\n",
    "\n",
    "$\\quad P(Y=c_k) \\Pi P(X^{(j)}=x^{(j)} \\mid Y=c_k),k=1,2,...,K$\n",
    "\n",
    "(3)确定实例$x$的分类\n",
    "\n",
    "$\\quad y=arg max P(Y=c_k) \\Pi P(X^{(j)}=x^{(j)} \\mid Y=c_k)$"
   ]
  },
  {
   "cell_type": "markdown",
   "metadata": {},
   "source": [
    "$\\quad {\\bf 例1}\\quad$由表中训练数据学习一个朴素贝叶斯分类器并确定$x=(2,S)^T$的类标记，表中$X^{(1)},X^{(2)}$为特征，取值的集合分别为$A_1={1,2,3},A_2={S,M,L}$,$Y \\in C={1,-1}$\n",
    "\n",
    "|          | 1| 2|3|4|5|6|7|8|9|10|11|12|13|14|15|\n",
    "|:---:|:---:|:---:|:---:|:---:|:---:|:---:|:---:|:---:|:---:|:---:|:---:|:---:|:---:|:---:|:---:|\n",
    "|$X^{(1)}$| 1| 1|1|1|1|2|2|2|2|2|3|3|3|3|3|\n",
    "|$X^{(2)}$| S| M|M|S|S|S|M|M|L|L|L|M|M|L|L|\n",
    "|$   Y  $|-1|-1|1|1|-1|-1|-1|1|1|1|1|1|1|1|-1|\n",
    "${\\quad \\bf 解} \\quad$根据上述算法，容易计算下列概率：\n",
    "\n",
    "先验概率：\n",
    "\n",
    "$P(Y=1)=\\frac{9}{15}$, $P(Y=-1)=\\frac{6}{15}$\n",
    "\n",
    "条件概率：\n",
    "\n",
    "$P(X^{(1)}=1 \\mid Y=1)=\\frac{2}{9}$,$P(X^{(1)}=2 \\mid Y=1)=\\frac{3}{9}$,$P(X^{(1)}=3 \\mid Y=1)=\\frac{4}{9}$\n",
    "\n",
    "$P(X^{(2)}=S \\mid Y=1)=\\frac{1}{9}$,$P(X^{(2)}=M \\mid Y=1)=\\frac{4}{9}$,$P(X^{(1)}=L \\mid Y=1)=\\frac{4}{9}$\n",
    "\n",
    "$P(X^{(1)}=1 \\mid Y=-1)=\\frac{3}{6}$,$P(X^{(1)}=2 \\mid Y=-1)=\\frac{2}{6}$,$P(X^{(1)}=3 \\mid Y=-1)=\\frac{1}{6}$\n",
    "\n",
    "$P(X^{(2)}=S \\mid Y=-1)=\\frac{3}{6}$,$P(X^{(2)}=M \\mid Y=-1)=\\frac{2}{6}$,$P(X^{(1)}=L \\mid Y=-1)=\\frac{1}{6}$\n",
    "\n",
    "对于给定的$x=(2,S)^T$，\n",
    "\n",
    "$\\quad P(Y=1)P(X^{(1)}=2 \\mid Y=1)P(X^{(2)}=S \\mid Y=1)=\\frac{9}{15} * \\frac{3}{9} * \\frac{1}{9}=\\frac{1}{45}$\n",
    "\n",
    "$\\quad P(Y=-1)P(X^{(1)}=2 \\mid Y=-1)P(X^{(2)}=S \\mid Y=-1)=\\frac{6}{15} * \\frac{2}{6} * \\frac{3}{6}=\\frac{1}{15}$\n",
    "\n",
    "因此，由最大后验概率确定实例$x$的类别$y=-1$."
   ]
  },
  {
   "cell_type": "markdown",
   "metadata": {},
   "source": [
    "## 3.贝叶斯估计\n",
    "$\\quad$用极大似然估计可能会出现所要估计的概率值为0的情况。这会影响到后验概率的计算结果，使分类产生误差。解决这一问题的方法是采用贝叶斯估计。具体来说，条件概率的贝叶斯估计为：\n",
    "\n",
    "$\\quad P_{\\lambda}(X^{(j)}=a_{jl} \\mid Y=c_k)=\\dfrac{\\Sigma^N_{i=1}I(x^{(j)}_i=a_{jl},y_i=c_k)+{\\lambda}}{\\Sigma^N_{i=1}I(y_i=c_k)+S_j{\\lambda}}$,${\\lambda} \\geq 0$.等价于在随机变量各个取值的频数上赋予一个正数${\\lambda} > 0$,当${\\lambda} = 0$时，就是极大似然估计.常取${\\lambda} = 1$,称为拉普拉斯平滑(Laplace smoothing).显然对于任何$l=1,2,...,S_j,k=1,2,...,K$,有\n",
    "\n",
    "$\\quad P_{\\lambda}(X^{(j)}=a_{jl} \\mid Y=c_k)>0$\n",
    "\n",
    "$\\quad \\Sigma^{S_j}_{l=1}P(X^{(j)} \\mid Y=c_k) = 1$\n",
    "\n",
    "同样，先验概率的贝叶斯估计是\n",
    "\n",
    "$ \\quad  P(Y=c_k)=\\frac{\\Sigma^N_{i=1}I(y_i=c_k)+{\\lambda}}{N+K{\\lambda}}$\n",
    "\n",
    "${\\quad\\bf 例2}\\quad$问题同例1,按照拉普拉斯平滑估计概率，取${\\lambda=1}$.\n",
    "\n",
    "${\\quad \\bf解 \\quad}$先验概率：\n",
    "\n",
    "$P(Y=1)=\\frac{10}{17}$, $P(Y=-1)=\\frac{7}{17}$\n",
    "\n",
    "条件概率：\n",
    "\n",
    "$P(X^{(1)}=1 \\mid Y=1)=\\frac{3}{12}$,$P(X^{(1)}=2 \\mid Y=1)=\\frac{4}{12}$,$P(X^{(1)}=3 \\mid Y=1)=\\frac{5}{12}$\n",
    "\n",
    "$P(X^{(2)}=S \\mid Y=1)=\\frac{2}{12}$,$P(X^{(2)}=M \\mid Y=1)=\\frac{5}{12}$,$P(X^{(1)}=L \\mid Y=1)=\\frac{5}{12}$\n",
    "\n",
    "$P(X^{(1)}=1 \\mid Y=-1)=\\frac{4}{9}$,$P(X^{(1)}=2 \\mid Y=-1)=\\frac{3}{9}$,$P(X^{(1)}=3 \\mid Y=-1)=\\frac{2}{9}$\n",
    "\n",
    "$P(X^{(2)}=S \\mid Y=-1)=\\frac{4}{9}$,$P(X^{(2)}=M \\mid Y=-1)=\\frac{3}{9}$,$P(X^{(1)}=L \\mid Y=-1)=\\frac{2}{9}$\n",
    "\n",
    "对于给定的$x=(2,S)^T$，\n",
    "\n",
    "$\\quad P(Y=1)P(X^{(1)}=2 \\mid Y=1)P(X^{(2)}=S \\mid Y=1)=\\frac{10}{17} * \\frac{4}{12} * \\frac{2}{12}=\\frac{5}{153}$\n",
    "\n",
    "$\\quad P(Y=-1)P(X^{(1)}=2 \\mid Y=-1)P(X^{(2)}=S \\mid Y=-1)=\\frac{7}{17} * \\frac{3}{9} * \\frac{4}{9}=\\frac{28}{459}$\n",
    "\n",
    "因此，由最大后验概率确定实例$x$的类别$y=-1$."
   ]
  },
  {
   "cell_type": "markdown",
   "metadata": {},
   "source": [
    "# 高斯朴素贝叶斯 (GaussianNB)\n",
    "\n",
    "上述估计都是对离散属性来说的，对于连续的数值来说，很多情况下样本中的每个属性满足正态分布，因此我们就可以利用训练样本集来求正态分布的均值$\\mu$和方差$\\sigma^2$,然后代入正态分布的表达式中，得到高斯密度函数。\n",
    "\n",
    "特征的可能性被假设为高斯概率密度函数：\n",
    "\n",
    "$\\quad P(x_i \\mid y_k)=\\dfrac{1}{\\sqrt{2\\pi\\sigma^2_{yk}}}exp(-\\dfrac{(x_i-\\mu_{yk})^2}{2\\sigma^2_{yk}})$\n",
    "\n",
    "数学期望(mean): $\\mu$,$\\quad$方差:$\\sigma^2=\\dfrac{\\Sigma(X-\\mu)^2}{N}$ "
   ]
  },
  {
   "cell_type": "code",
   "execution_count": 16,
   "metadata": {},
   "outputs": [],
   "source": [
    "import numpy as np \n",
    "import pandas as pd\n",
    "import matplotlib.pyplot as plt\n",
    "import sklearn\n",
    "from sklearn.datasets import load_iris\n",
    "from sklearn.model_selection import train_test_split\n",
    "\n",
    "import math\n",
    "from collections import Counter\n",
    "%matplotlib inline"
   ]
  },
  {
   "cell_type": "code",
   "execution_count": 17,
   "metadata": {},
   "outputs": [],
   "source": [
    "#load datasets\n",
    "iris = load_iris()\n",
    "data = iris.data\n",
    "label = iris.target\n",
    "X_train,X_test,y_train,y_test = train_test_split(data,label,test_size=0.3)"
   ]
  },
  {
   "cell_type": "code",
   "execution_count": 23,
   "metadata": {
    "scrolled": false
   },
   "outputs": [
    {
     "name": "stdout",
     "output_type": "stream",
     "text": [
      "(5.1, 4.9, 4.7, 4.6, 5.0, 5.4, 4.6, 5.0, 4.4, 4.9)\n",
      "(3.5, 3.0, 3.2, 3.1, 3.6, 3.9, 3.4, 3.4, 2.9, 3.1)\n",
      "(1.4, 1.4, 1.3, 1.5, 1.4, 1.7, 1.4, 1.5, 1.4, 1.5)\n",
      "(0.2, 0.2, 0.2, 0.2, 0.2, 0.4, 0.3, 0.2, 0.2, 0.1)\n",
      "(array([5.1, 3.5, 1.4, 0.2]),)\n",
      "(array([4.9, 3. , 1.4, 0.2]),)\n",
      "(array([4.7, 3.2, 1.3, 0.2]),)\n",
      "(array([4.6, 3.1, 1.5, 0.2]),)\n",
      "(array([5. , 3.6, 1.4, 0.2]),)\n",
      "(array([5.4, 3.9, 1.7, 0.4]),)\n",
      "(array([4.6, 3.4, 1.4, 0.3]),)\n",
      "(array([5. , 3.4, 1.5, 0.2]),)\n",
      "(array([4.4, 2.9, 1.4, 0.2]),)\n",
      "(array([4.9, 3.1, 1.5, 0.1]),)\n"
     ]
    }
   ],
   "source": [
    "for i in zip(*data[:10]):\n",
    "    print(i)\n",
    "for i in zip(data[:10]):\n",
    "    print(i)"
   ]
  },
  {
   "cell_type": "code",
   "execution_count": 52,
   "metadata": {},
   "outputs": [],
   "source": [
    "#高斯朴素贝叶斯分类器\n",
    "class CgaussianNB:\n",
    "    def __init__(self):\n",
    "        self.model = None\n",
    "    @staticmethod\n",
    "    def mean(X):\n",
    "        return sum(X)/float(len(X))\n",
    "    def stddev(self,X):\n",
    "        average = self.mean(X)\n",
    "        return math.sqrt(sum([math.pow(x-average,2) for x in X]) / float(len(X)))\n",
    "    #概率密度函数\n",
    "    def gaussian_prob(self,x,mean,stddev):\n",
    "        exponent = math.exp(-(math.pow(x-mean,2)/(2*math.pow(stddev,2))))\n",
    "        return (1/(math.sqrt(2*math.pi)*stddev))*exponent\n",
    "    #处理训练数据\n",
    "    def summarize(self,data):\n",
    "        summa = [(self.mean(i),self.stddev(i)) for i in zip(*data)]\n",
    "        #print(np.shape(summa)) #(4,2)\n",
    "        return summa\n",
    "    def fit(self,X,y):\n",
    "        data = {label:[] for label in set(y)}\n",
    "        for f,label in zip(X,y):\n",
    "            data[label].append(f)\n",
    "        self.model = {label: self.summarize(value) for label,value in data.items()}\n",
    "        return \"training has done!\"\n",
    "    def calculate_prob(self,input_data):\n",
    "        prob = {}\n",
    "        for label,value in self.model.items():\n",
    "            prob[label] = 1\n",
    "            for i in range(len(value)):\n",
    "                mean,stddev = value[i]\n",
    "                prob[label] *= self.gaussian_prob(input_data[i],mean,stddev)\n",
    "        return prob\n",
    "    def predict(self,X_test):\n",
    "        y = sorted(self.calculate_prob(X_test).items(),key=lambda x:x[-1])[-1][0]\n",
    "        return y\n",
    "    def score(self,X_test,y_test):\n",
    "        right = 0\n",
    "        for X,y in zip(X_test,y_test):\n",
    "            label = self.predict(X)\n",
    "            if label==y:\n",
    "                right+=1\n",
    "        return right/float(len(y_test))\n",
    "    \n",
    "        "
   ]
  },
  {
   "cell_type": "code",
   "execution_count": 55,
   "metadata": {
    "scrolled": true
   },
   "outputs": [
    {
     "name": "stdout",
     "output_type": "stream",
     "text": [
      "(4, 2)\n",
      "(4, 2)\n",
      "(4, 2)\n",
      "2\n",
      "the accuracy is  0.9333333333333333\n"
     ]
    }
   ],
   "source": [
    "model = CgaussianNB()\n",
    "model.fit(X_train,y_train)\n",
    "print(model.predict(X_test[1]))\n",
    "print(\"the accuracy is \",model.score(X_test,y_test))"
   ]
  },
  {
   "cell_type": "markdown",
   "metadata": {},
   "source": [
    "## sklearn包中的高斯朴素贝叶斯实现"
   ]
  },
  {
   "cell_type": "code",
   "execution_count": 37,
   "metadata": {},
   "outputs": [
    {
     "data": {
      "text/plain": [
       "GaussianNB(priors=None)"
      ]
     },
     "execution_count": 37,
     "metadata": {},
     "output_type": "execute_result"
    }
   ],
   "source": [
    "from sklearn.naive_bayes import GaussianNB\n",
    "clf = GaussianNB()\n",
    "clf.fit(X_train,y_train)"
   ]
  },
  {
   "cell_type": "code",
   "execution_count": 44,
   "metadata": {},
   "outputs": [
    {
     "name": "stdout",
     "output_type": "stream",
     "text": [
      "0.9333333333333333\n"
     ]
    },
    {
     "data": {
      "text/plain": [
       "array([0, 2, 0, 2, 2, 0, 0, 1, 1, 2, 0, 2, 1, 2, 1, 1, 0, 1, 0, 2, 1, 2,\n",
       "       1, 2, 1, 2, 1, 1, 1, 2, 1, 2, 0, 0, 0, 1, 2, 1, 1, 1, 2, 1, 2, 1,\n",
       "       1])"
      ]
     },
     "execution_count": 44,
     "metadata": {},
     "output_type": "execute_result"
    }
   ],
   "source": [
    "print(clf.score(X_test,y_test))\n",
    "clf.predict(X_test)"
   ]
  }
 ],
 "metadata": {
  "kernelspec": {
   "display_name": "Python 3",
   "language": "python",
   "name": "python3"
  },
  "language_info": {
   "codemirror_mode": {
    "name": "ipython",
    "version": 3
   },
   "file_extension": ".py",
   "mimetype": "text/x-python",
   "name": "python",
   "nbconvert_exporter": "python",
   "pygments_lexer": "ipython3",
   "version": "3.6.5"
  }
 },
 "nbformat": 4,
 "nbformat_minor": 2
}
